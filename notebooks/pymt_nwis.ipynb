{
 "cells": [
  {
   "cell_type": "markdown",
   "id": "persistent-worst",
   "metadata": {},
   "source": [
    "<img src=\"https://github.com/gantian127/pymt_nwis/blob/master/docs/_static/logo.png?raw=true\" width='600' align='center'></a>"
   ]
  },
  {
   "cell_type": "markdown",
   "id": "faea4c08",
   "metadata": {},
   "source": [
    "## Introduction\n",
    "\n",
    "[pymt_nwis](https://github.com/gantian127/pymt_nwis) is a package that uses the [bmi_nwis](https://github.com/gantian127/bmi_nwis) pacakge to convert NWIS datasets into a reusable, plug-and-play data component for [PyMT](https://pymt.readthedocs.io/en/latest/?badge=latest) modeling framework developed by Community Surface Dynamics Modeling System ([CSDMS](https://csdms.colorado.edu/wiki/Main_Page)). This allows NWIS datasets to be easily coupled with other datasets or models that expose a Basic Model Interface ([BMI](https://bmi-spec.readthedocs.io/en/latest/)).\n",
    "\n",
    "To install pymt_nwis, please follow the instructions [here](https://github.com/gantian127/pymt_nwis#pymt_nwis).\n",
    "\n",
    "\n",
    "Suggested citation: Gan, T. (2023). Jupyter Notebooks for the NWIS Data Component, HydroShare, https://www.hydroshare.org/resource/1473ac1368b44808b57cca2848923779/\n"
   ]
  },
  {
   "cell_type": "markdown",
   "id": "thermal-lodge",
   "metadata": {},
   "source": [
    "## Coding Examples\n",
    "\n",
    "This section provides two examples to demonstrate how to use the [dataretrieval](https://github.com/USGS-python/dataretrieval) package and the pymt_nwis package to download the same NWIS dataset for visualization."
   ]
  },
  {
   "cell_type": "markdown",
   "id": "707a60b0",
   "metadata": {},
   "source": [
    "### Example 1: use dataretrieval package to download the NWIS data¶"
   ]
  },
  {
   "cell_type": "markdown",
   "id": "c2f15adb",
   "metadata": {},
   "source": [
    "In this example, get_record( ) function from the dataretrieval package is used to download the instantaneous datasets at the USGS Gage 03339000 from Jan 1st to 3rd, 2022. Time series plots of stream flow and gage height are created."
   ]
  },
  {
   "cell_type": "code",
   "execution_count": null,
   "id": "084e61a9",
   "metadata": {},
   "outputs": [],
   "source": [
    "import dataretrieval.nwis as nwis                                 \n",
    "\n",
    "# get data from NWIS\n",
    "dataset = nwis.get_record(sites='03339000', service='iv', start='2022-01-01', end='2022-01-03')\n",
    "\n",
    "# plot data\n",
    "ax = dataset.plot(y=['00060','00065'], subplots=True, figsize=(8,8), \n",
    "                  xlabel='Time', title = 'Time Series Data at USGS Gage 03339000')\n",
    "ax[0].set_ylabel('Stream flow (ft3/s)')\n",
    "ax[1].set_ylabel('Gage height (ft)')"
   ]
  },
  {
   "cell_type": "markdown",
   "id": "42825b76",
   "metadata": {},
   "source": [
    "### Example 2: use pymt_nwis to download the NWIS data¶"
   ]
  },
  {
   "cell_type": "markdown",
   "id": "nuclear-creativity",
   "metadata": {},
   "source": [
    "Import Nwis class and instantiate it. A configuration file (yaml file) is required to provide the parameter settings for data download. An example [config_file.yaml](https://github.com/gantian127/pymt_nwis/blob/master/notebooks/config_file.yaml) is provided in the same folder with this Jupyter Notebook file. For more details of the parameters specified in the config.yaml file, please check with the link [here](https://bmi_nwis.readthedocs.io/en/latest/?badge=latest#parameter-settings)."
   ]
  },
  {
   "cell_type": "code",
   "execution_count": null,
   "id": "secret-briefing",
   "metadata": {},
   "outputs": [],
   "source": [
    "import numpy as np\n",
    "import cftime\n",
    "import pandas as pd\n",
    "\n",
    "from pymt.models import Nwis\n",
    "\n",
    "# initiate a data component\n",
    "data_comp = Nwis()\n",
    "data_comp.initialize('config_file.yaml')"
   ]
  },
  {
   "cell_type": "markdown",
   "id": "comic-shannon",
   "metadata": {},
   "source": [
    "Use variable related methods to check the variable information of the NWIS data. You will find out that there are multiple variables for this dataset."
   ]
  },
  {
   "cell_type": "code",
   "execution_count": null,
   "id": "2ac3e497",
   "metadata": {},
   "outputs": [],
   "source": [
    "# get variable info\n",
    "for var_name in data_comp.output_var_names:\n",
    "    var_unit = data_comp.var_units(var_name)\n",
    "    var_location = data_comp.var_location(var_name)\n",
    "    var_type = data_comp.var_type(var_name)\n",
    "    var_grid = data_comp.var_grid(var_name)\n",
    "    var_itemsize = data_comp.var_itemsize(var_name)\n",
    "    var_nbytes = data_comp.var_nbytes(var_name)\n",
    "\n",
    "    print('variable_name: {} \\nvar_unit: {} \\nvar_location: {} \\nvar_type: {} \\nvar_grid: {} \\nvar_itemsize: {}'\n",
    "        '\\nvar_nbytes: {} \\n'. format(var_name, var_unit, var_location, var_type, var_grid, var_itemsize, var_nbytes))"
   ]
  },
  {
   "cell_type": "markdown",
   "id": "analyzed-norman",
   "metadata": {},
   "source": [
    "Use time related methods to check the time information of the dataset. Please note that the time values are stored in a format which follows [CF convention](http://cfconventions.org/Data/cf-conventions/cf-conventions-1.8/cf-conventions.pdf)."
   ]
  },
  {
   "cell_type": "code",
   "execution_count": null,
   "id": "violent-michigan",
   "metadata": {},
   "outputs": [],
   "source": [
    "# get time info\n",
    "start_time = data_comp.start_time\n",
    "end_time = data_comp.end_time\n",
    "time_step = data_comp.time_step\n",
    "time_units = data_comp.time_units\n",
    "time_steps = int((end_time - start_time)/time_step) + 1\n",
    "\n",
    "print('start_time: {} \\nend_time: {} \\ntime_step: {} \\ntime_units: {} \\ntime_steps: {}'.format(\n",
    "    start_time, end_time, time_step, time_units, time_steps))"
   ]
  },
  {
   "cell_type": "markdown",
   "id": "93a27d70",
   "metadata": {},
   "source": [
    "Use grid related methods to check the grid information of the NWIS dataset."
   ]
  },
  {
   "cell_type": "code",
   "execution_count": null,
   "id": "d3462446",
   "metadata": {},
   "outputs": [],
   "source": [
    "# get variable grid info\n",
    "grid_type = data_comp.grid_type(var_grid)\n",
    "grid_rank = data_comp.grid_ndim(var_grid)\n",
    "grid_node_count = data_comp.grid_node_count(var_grid)\n",
    "site_lon = data_comp.grid_x(var_grid)[0]\n",
    "site_lat = data_comp.grid_y(var_grid)[0]\n",
    "\n",
    "print('grid_type: {} \\ngrid_rank: {} \\ngrid_node_count: {} \\nsite_lon: {} \\nsite_lat: {}'.format(\n",
    "    grid_type, grid_rank, grid_node_count, site_lon, site_lat))"
   ]
  },
  {
   "cell_type": "markdown",
   "id": "monetary-exception",
   "metadata": {},
   "source": [
    "Loop through each time step to get the stream flow, gage height and time values. get_value( ) method returns the stream flow (parameter code as 00060) and gage height (parameter code as 00065) values at each time step. update( ) method updates the current time step of the data component."
   ]
  },
  {
   "cell_type": "code",
   "execution_count": null,
   "id": "1a3ee3fa",
   "metadata": {},
   "outputs": [],
   "source": [
    "# initiate dataframe to store data\n",
    "dataset = pd.DataFrame(columns = ['00060','00065','time'])\n",
    "\n",
    "for i in range(0, time_steps):  \n",
    "    # get values\n",
    "    stream_flow = data_comp.get_value('Stream flow')\n",
    "    gage_height = data_comp.get_value('Height')\n",
    "    time = cftime.num2pydate(data_comp.time, time_units)\n",
    "    \n",
    "    # add new row to dataframe\n",
    "    dataset.loc[len(dataset)]=[stream_flow[0], gage_height[0], time]\n",
    "    \n",
    "    # update to next time step\n",
    "    data_comp.update()\n",
    "    \n",
    "# convert time to local time\n",
    "dataset = dataset.set_index('time').tz_localize(tz='UTC').tz_convert(tz='US/Central')"
   ]
  },
  {
   "cell_type": "markdown",
   "id": "aggressive-synthesis",
   "metadata": {},
   "source": [
    "Now let's make a plot of the stream flow and gage height data. "
   ]
  },
  {
   "cell_type": "code",
   "execution_count": null,
   "id": "aerial-austria",
   "metadata": {},
   "outputs": [],
   "source": [
    "# plot data\n",
    "ax = dataset.plot(y=['00060','00065'], subplots=True, figsize=(8,8), \n",
    "                  xlabel='Time', title = 'Time Series Data at USGS Gage 03339000')\n",
    "ax[0].set_ylabel('Stream flow (ft3/s)')\n",
    "ax[1].set_ylabel('Gage height (ft)')"
   ]
  },
  {
   "cell_type": "markdown",
   "id": "going-discussion",
   "metadata": {},
   "source": [
    "Complete the example by finalizing the component. finalize( ) method performs tasks that take place after using the data component, such as deallocating memory and closing files."
   ]
  },
  {
   "cell_type": "code",
   "execution_count": null,
   "id": "published-vault",
   "metadata": {},
   "outputs": [],
   "source": [
    "data_comp.finalize()"
   ]
  }
 ],
 "metadata": {
  "kernelspec": {
   "display_name": "Python 3 (ipykernel)",
   "language": "python",
   "name": "python3"
  },
  "language_info": {
   "codemirror_mode": {
    "name": "ipython",
    "version": 3
   },
   "file_extension": ".py",
   "mimetype": "text/x-python",
   "name": "python",
   "nbconvert_exporter": "python",
   "pygments_lexer": "ipython3",
   "version": "3.9.16"
  }
 },
 "nbformat": 4,
 "nbformat_minor": 5
}
