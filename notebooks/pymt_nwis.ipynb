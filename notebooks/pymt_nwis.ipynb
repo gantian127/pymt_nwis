{
 "cells": [
  {
   "cell_type": "markdown",
   "id": "persistent-worst",
   "metadata": {},
   "source": [
    "<img src=\"https://github.com/gantian127/pymt_nwis/blob/master/docs/_static/logo.png?raw=true\" width='600' align='center'></a>"
   ]
  },
  {
   "cell_type": "markdown",
   "id": "political-argentina",
   "metadata": {},
   "source": [
    "## Introduction"
   ]
  },
  {
   "cell_type": "markdown",
   "id": "increasing-cooper",
   "metadata": {},
   "source": [
    "[nwis](https://github.com/gantian127/nwis) package provides a set of functions that allows downloading of the National Water Information System datasets for data visualization and analysis. nwis package also includes a Basic Model Interface ([BMI](https://bmi.readthedocs.io/en/latest/)). \n",
    "\n",
    "[pymt_nwis](https://github.com/gantian127/pymt_nwis) package uses the BMI of nwis to convert it into a reusable, plug-and-play data component for [PyMT](https://pymt.readthedocs.io/en/latest/?badge=latest) modeling framework. This allows the National Water Information System datasets to be easily coupled with other datasets or models that expose a BMI."
   ]
  },
  {
   "cell_type": "markdown",
   "id": "excited-norway",
   "metadata": {},
   "source": [
    "**To install pymt_nwis, use the following command:**"
   ]
  },
  {
   "cell_type": "code",
   "execution_count": null,
   "id": "powerful-staff",
   "metadata": {},
   "outputs": [],
   "source": [
    "! pip install pymt_nwis"
   ]
  },
  {
   "cell_type": "markdown",
   "id": "thermal-lodge",
   "metadata": {},
   "source": [
    "## Coding Example"
   ]
  },
  {
   "cell_type": "markdown",
   "id": "nuclear-creativity",
   "metadata": {},
   "source": [
    "Import nwis class and instantiate it. A configuration file (yaml file) is required to provide the parameter settings for data download. An example config_file.yaml is provided in the same folder with this Jupyter Notebook file. For more details of the parameters specified in the config.yaml file, please check with the link [here](https://nwis.readthedocs.io/en/latest/?badge=latest#parameter-settings)."
   ]
  },
  {
   "cell_type": "code",
   "execution_count": 1,
   "id": "secret-briefing",
   "metadata": {},
   "outputs": [],
   "source": [
    "import matplotlib.pyplot as plt\n",
    "import numpy as np\n",
    "import cftime\n",
    "\n",
    "\n",
    "from pymt.models import Nwis\n",
    "\n",
    "# initiate a data component\n",
    "data_comp = Nwis()\n",
    "data_comp.initialize('config_file.yaml')"
   ]
  },
  {
   "cell_type": "markdown",
   "id": "comic-shannon",
   "metadata": {},
   "source": [
    "Use variable related methods to check the variable information of the dataset. There are multiple variables and we will check the detailed info of the \"discharge\" variable."
   ]
  },
  {
   "cell_type": "code",
   "execution_count": 2,
   "id": "dedicated-receipt",
   "metadata": {},
   "outputs": [
    {
     "name": "stdout",
     "output_type": "stream",
     "text": [
      "All variable names: ('water temperature', 'discharge', 'gage height')\n",
      "variable_name: discharge \n",
      "var_unit: cubic feet per second \n",
      "var_location: node \n",
      "var_type: float64 \n",
      "var_grid: 0\n"
     ]
    }
   ],
   "source": [
    "# get variable info\n",
    "var_names = data_comp.output_var_names\n",
    "print('All variable names: {}'.format(var_names))\n",
    "\n",
    "var_name = 'discharge'\n",
    "var_unit = data_comp.var_units(var_name)\n",
    "var_location = data_comp.var_location(var_name)\n",
    "var_type = data_comp.var_type(var_name)\n",
    "var_grid = data_comp.var_grid(var_name)\n",
    "\n",
    "print('variable_name: {} \\nvar_unit: {} \\nvar_location: {} \\nvar_type: {} \\nvar_grid: {}'.format(\n",
    "    var_name, var_unit, var_location, var_type, var_grid))"
   ]
  },
  {
   "cell_type": "markdown",
   "id": "analyzed-norman",
   "metadata": {},
   "source": [
    "Use time related methods to check the time information of the dataset. Please note that the time values are stored in a format which follows [CF convention](http://cfconventions.org/Data/cf-conventions/cf-conventions-1.8/cf-conventions.pdf)."
   ]
  },
  {
   "cell_type": "code",
   "execution_count": 3,
   "id": "violent-michigan",
   "metadata": {},
   "outputs": [
    {
     "name": "stdout",
     "output_type": "stream",
     "text": [
      "start_time: 1577836800.0 \n",
      "end_time: 1579046400.0 \n",
      "time_step: 86400 \n",
      "time_units: seconds since 1970-01-01 00:00:00 UTC \n",
      "time_steps: 15\n"
     ]
    }
   ],
   "source": [
    "# get time info\n",
    "start_time = data_comp.start_time\n",
    "end_time = data_comp.end_time\n",
    "time_step = data_comp.time_step\n",
    "time_units = data_comp.time_units\n",
    "time_steps = int((end_time - start_time)/time_step) + 1\n",
    "\n",
    "print('start_time: {} \\nend_time: {} \\ntime_step: {} \\ntime_units: {} \\ntime_steps: {}'.format(\n",
    "    start_time, end_time, time_step, time_units, time_steps))"
   ]
  },
  {
   "cell_type": "markdown",
   "id": "monetary-exception",
   "metadata": {},
   "source": [
    "Loop through each time step to get the discharge and time values. stream_array stores the discharge values. cftime_array stores the numerical time values. time_array stores the corresponding Python datetime objects. get_value( ) method returns the flow forecast value at each time step. update( ) method updates the current time step of the data component."
   ]
  },
  {
   "cell_type": "code",
   "execution_count": 4,
   "id": "ideal-grave",
   "metadata": {},
   "outputs": [],
   "source": [
    "# get variable data\n",
    "stream_array = np.empty(time_steps)\n",
    "cftime_array = np.empty(time_steps)\n",
    "\n",
    "for i in range(0, time_steps):\n",
    "    stream_array[i] = data_comp.get_value(var_name)\n",
    "    cftime_array[i] = data_comp.time\n",
    "    data_comp.update()\n",
    "\n",
    "time_array = cftime.num2date(cftime_array, time_units, only_use_cftime_datetimes=False, only_use_python_datetimes=True )\n"
   ]
  },
  {
   "cell_type": "markdown",
   "id": "aggressive-synthesis",
   "metadata": {},
   "source": [
    "Now let's make a plot of the discharge data. "
   ]
  },
  {
   "cell_type": "code",
   "execution_count": 5,
   "id": "aerial-austria",
   "metadata": {},
   "outputs": [
    {
     "data": {
      "text/plain": [
       "Text(0.5, 1.0, 'Discharge Observation at USGS Gage 03339000')"
      ]
     },
     "execution_count": 5,
     "metadata": {},
     "output_type": "execute_result"
    },
    {
     "data": {
      "image/png": "[encoded data removed]",
      "text/plain": [
       "<Figure size 648x360 with 1 Axes>"
      ]
     },
     "metadata": {
      "needs_background": "light"
     },
     "output_type": "display_data"
    }
   ],
   "source": [
    "# plot data\n",
    "plt.figure(figsize=(9,5))\n",
    "plt.plot(time_array, stream_array)\n",
    "plt.xlabel('Year 2017')\n",
    "plt.ylabel('{} ({})'.format(var_name, var_unit))\n",
    "plt.title('Discharge Observation at USGS Gage 03339000')"
   ]
  },
  {
   "cell_type": "markdown",
   "id": "going-discussion",
   "metadata": {},
   "source": [
    "Complete the example by finalizing the component."
   ]
  },
  {
   "cell_type": "code",
   "execution_count": 6,
   "id": "published-vault",
   "metadata": {},
   "outputs": [],
   "source": [
    "data_comp.finalize()"
   ]
  }
 ],
 "metadata": {
  "kernelspec": {
   "display_name": "Python 3",
   "language": "python",
   "name": "python3"
  },
  "language_info": {
   "codemirror_mode": {
    "name": "ipython",
    "version": 3
   },
   "file_extension": ".py",
   "mimetype": "text/x-python",
   "name": "python",
   "nbconvert_exporter": "python",
   "pygments_lexer": "ipython3",
   "version": "3.9.2"
  }
 },
 "nbformat": 4,
 "nbformat_minor": 5
}
